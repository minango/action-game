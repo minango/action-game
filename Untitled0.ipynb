{
  "nbformat": 4,
  "nbformat_minor": 0,
  "metadata": {
    "colab": {
      "provenance": [],
      "authorship_tag": "ABX9TyMza2t+0ulSbcc6q5iF5hfs",
      "include_colab_link": true
    },
    "kernelspec": {
      "name": "python3",
      "display_name": "Python 3"
    },
    "language_info": {
      "name": "python"
    }
  },
  "cells": [
    {
      "cell_type": "markdown",
      "metadata": {
        "id": "view-in-github",
        "colab_type": "text"
      },
      "source": [
        "<a href=\"https://colab.research.google.com/github/minango/action-game/blob/master/Untitled0.ipynb\" target=\"_parent\"><img src=\"https://colab.research.google.com/assets/colab-badge.svg\" alt=\"Open In Colab\"/></a>"
      ]
    },
    {
      "cell_type": "code",
      "source": [
        "while True:\n",
        "    sine=input()\n",
        "    if sine==\"ちんこ\"or sine==\"ちんちん\"or sine==\"うんち\"or sine==\"うんこ\"or sine==\"おっぱい\"or sine==\"ケツ\"or sine==\"ケツの穴\"or sine==\"おしっこ\"or sine==\"乳首\"or sine==\"おっぱい何センチ？\"or sine==\"ちんこ何センチ？\"or sine==\"ちんちん何センチ？\"or sine==\"パンツの色は？\":\n",
        "        print('お前キモイ')\n",
        "    elif sine==\"死ね\"or sine==\"カス\"or sine==\"クソ\"or sine==\"fack\"or sine==\"消えろ\"or sine==\"ゴミ\"or sine==\"チリ\"or sine==\"デブ\"or sine==\"チビ\":\n",
        "        print('悪口言ってるやつ全員死ね')\n",
        "    else:\n",
        "        print('お前過去一おもんない')\n"
      ],
      "metadata": {
        "colab": {
          "base_uri": "https://localhost:8080/"
        },
        "id": "8vbKQkkQbcqA",
        "outputId": "ba7dc410-57e9-4a27-dbc4-1ead78b07219"
      },
      "execution_count": null,
      "outputs": [
        {
          "output_type": "stream",
          "name": "stdout",
          "text": [
            "死ね\n",
            "悪口言ってるやつ全員死ね\n",
            "うんぱ\n",
            "お前過去一おもんない\n",
            "ちんこ\n",
            "お前キモイ\n",
            "カス\n",
            "悪口言ってるやつ全員死ね\n",
            "消えろ\n",
            "悪口言ってるやつ全員死ね\n",
            "ゴミ\n",
            "悪口言ってるやつ全員死ね\n",
            "ちんこ\n",
            "お前キモイ\n",
            "クソ\n",
            "悪口言ってるやつ全員死ね\n",
            "ガキ\n",
            "お前過去一おもんない\n"
          ]
        }
      ]
    },
    {
      "cell_type": "markdown",
      "source": [],
      "metadata": {
        "id": "oSAbntI9aoM2"
      }
    }
  ]
}